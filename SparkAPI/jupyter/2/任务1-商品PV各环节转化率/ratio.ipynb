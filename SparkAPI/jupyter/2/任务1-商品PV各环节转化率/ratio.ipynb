{
 "cells": [
  {
   "cell_type": "code",
   "execution_count": 1,
   "metadata": {},
   "outputs": [],
   "source": [
    "import findspark\n",
    "findspark.init()\n",
    "from pyspark import SparkContext\n",
    "from pyspark import SparkConf\n",
    "from os.path import expanduser, join, abspath\n",
    "from pyspark.sql import SparkSession\n",
    "from pyspark.sql import Row\n",
    "from pyspark.sql.types import *\n",
    "import matplotlib.pyplot as plt\n",
    "from pyspark.sql.types import StructField\n",
    "import numpy as np\n",
    "import pandas as pd\n",
    "import matplotlib.dates as mdate\n",
    "from pyspark.sql.functions import udf, col"
   ]
  },
  {
   "cell_type": "code",
   "execution_count": 2,
   "metadata": {},
   "outputs": [],
   "source": [
    "warehouse_location = abspath('/user/hive/warehouse')"
   ]
  },
  {
   "cell_type": "code",
   "execution_count": 3,
   "metadata": {},
   "outputs": [],
   "source": [
    "spark = SparkSession \\\n",
    "    .builder \\\n",
    "    .appName(\"Python Spark SQL Hive integration example\") \\\n",
    "    .config(\"spark.sql.warehouse.dir\", warehouse_location) \\\n",
    "    .master(\"spark://app-13:7077\") \\\n",
    "    .getOrCreate()\n",
    "df = spark.read.format(\"CSV\").option(\"header\",\"true\").\\\n",
    "option(\"timestampFormat \",\"yyyy-MM-dd'T'HH\").\\\n",
    "schema(\"user_id int,item_id int,behavior_type int,user_geohash string,item_category int,create_time string\").\\\n",
    "load(\"/user/hive/warehouse/test.db/tianchi/tianchi_mobile_recommend_train_user.csv\") \n",
    "df.createOrReplaceTempView(\"taobao\")"
   ]
  },
  {
   "cell_type": "code",
   "execution_count": 4,
   "metadata": {},
   "outputs": [],
   "source": [
    "spark.conf.set(\"spark.sql.execution.arrow.enabled\", \"true\")"
   ]
  },
  {
   "cell_type": "code",
   "execution_count": 5,
   "metadata": {},
   "outputs": [
    {
     "name": "stdout",
     "output_type": "stream",
     "text": [
      "+-----------------------------+\n",
      "|count(DISTINCT item_category)|\n",
      "+-----------------------------+\n",
      "|                         8916|\n",
      "+-----------------------------+\n",
      "\n"
     ]
    }
   ],
   "source": [
    "spark.sql(\"SELECT count(distinct item_category) from taobao\").show()"
   ]
  },
  {
   "cell_type": "code",
   "execution_count": 6,
   "metadata": {},
   "outputs": [
    {
     "name": "stdout",
     "output_type": "stream",
     "text": [
      "+-----------------------+\n",
      "|count(DISTINCT item_id)|\n",
      "+-----------------------+\n",
      "|                2876947|\n",
      "+-----------------------+\n",
      "\n"
     ]
    }
   ],
   "source": [
    "spark.sql(\"SELECT count(distinct item_id) from taobao\").show()"
   ]
  },
  {
   "cell_type": "code",
   "execution_count": 11,
   "metadata": {},
   "outputs": [
    {
     "name": "stdout",
     "output_type": "stream",
     "text": [
      "+---------+-------------+---+\n",
      "|  item_id|behavior_type|cnt|\n",
      "+---------+-------------+---+\n",
      "|303205878|            4| 50|\n",
      "| 14087919|            4| 35|\n",
      "|115124482|            4| 31|\n",
      "|243091690|            4| 29|\n",
      "|167074648|            4| 28|\n",
      "|127914633|            4| 24|\n",
      "|109259240|            4| 24|\n",
      "|374214353|            4| 23|\n",
      "|101795752|            4| 23|\n",
      "|176556528|            4| 22|\n",
      "|400291504|            4| 22|\n",
      "| 17065447|            4| 22|\n",
      "|383779671|            4| 22|\n",
      "|330469986|            4| 22|\n",
      "|331710542|            4| 21|\n",
      "|390181058|            4| 21|\n",
      "|188241513|            4| 21|\n",
      "| 83098075|            4| 20|\n",
      "| 72183675|            4| 20|\n",
      "|387911330|            4| 19|\n",
      "+---------+-------------+---+\n",
      "only showing top 20 rows\n",
      "\n"
     ]
    }
   ],
   "source": [
    "spark.sql(\"SELECT item_id,behavior_type,count(*) as cnt from taobao group by item_id,behavior_type order by behavior_type desc,cnt desc\").show()"
   ]
  },
  {
   "cell_type": "code",
   "execution_count": 12,
   "metadata": {},
   "outputs": [
    {
     "name": "stdout",
     "output_type": "stream",
     "text": [
      "+---+\n",
      "|cnt|\n",
      "+---+\n",
      "| 50|\n",
      "+---+\n",
      "\n"
     ]
    }
   ],
   "source": [
    "spark.sql(\"SELECT count(*) as cnt from taobao where item_id=303205878 and behavior_type=4\").show()"
   ]
  },
  {
   "cell_type": "code",
   "execution_count": 16,
   "metadata": {},
   "outputs": [
    {
     "name": "stdout",
     "output_type": "stream",
     "text": [
      "+---------+----+\n",
      "|  item_id|   b|\n",
      "+---------+----+\n",
      "|232431562|  pv|\n",
      "|383583590|  pv|\n",
      "| 64749712|  pv|\n",
      "|320593836|  pv|\n",
      "|290208520|  pv|\n",
      "|337869048|  pv|\n",
      "|105749725|  pv|\n",
      "| 76866650|  pv|\n",
      "|161166643|  pv|\n",
      "| 21751142|cart|\n",
      "|266020206|cart|\n",
      "|139144131|  pv|\n",
      "|255365467|  pv|\n",
      "|212072908|  pv|\n",
      "|322736792|  pv|\n",
      "|382807809|  pv|\n",
      "|262661866|  pv|\n",
      "|144902506|  pv|\n",
      "|185630324|  pv|\n",
      "| 76021805|  pv|\n",
      "+---------+----+\n",
      "only showing top 20 rows\n",
      "\n"
     ]
    }
   ],
   "source": [
    "spark.sql(\"\"\"SELECT item_id,\n",
    "(case behavior_type \n",
    "      when 1 then 'pv'\n",
    "      when 2 then 'fav'\n",
    "      when 3 then 'cart'\n",
    "      when 4 then 'buy'\n",
    "      END)b\n",
    "FROM taobao\"\"\").show()"
   ]
  },
  {
   "cell_type": "code",
   "execution_count": 18,
   "metadata": {},
   "outputs": [
    {
     "name": "stdout",
     "output_type": "stream",
     "text": [
      "+---------+--------+----+\n",
      "|  item_id|behavior| cnt|\n",
      "+---------+--------+----+\n",
      "|112921337|      pv|1431|\n",
      "| 97655171|      pv|1249|\n",
      "|387911330|      pv|1053|\n",
      "|135104537|      pv| 916|\n",
      "|  2217535|      pv| 792|\n",
      "|  5685392|      pv| 767|\n",
      "|128186279|      pv| 765|\n",
      "|277922302|      pv| 763|\n",
      "| 14087919|      pv| 740|\n",
      "|209323160|      pv| 716|\n",
      "|275450912|      pv| 665|\n",
      "|374235261|      pv| 634|\n",
      "|353381230|      pv| 606|\n",
      "|211781109|      pv| 603|\n",
      "|322554659|      pv| 593|\n",
      "|  6703599|      pv| 589|\n",
      "|217213194|      pv| 567|\n",
      "| 21087251|      pv| 544|\n",
      "|355292943|      pv| 538|\n",
      "|303205878|      pv| 534|\n",
      "+---------+--------+----+\n",
      "only showing top 20 rows\n",
      "\n"
     ]
    }
   ],
   "source": [
    "spark.sql(\"\"\"SELECT item_id,\n",
    "(case behavior_type \n",
    "      when 1 then 'pv'\n",
    "      when 2 then 'fav'\n",
    "      when 3 then 'cart'\n",
    "      when 4 then 'buy'\n",
    "      END)behavior,\n",
    "  count(*) as cnt\n",
    "FROM taobao group by item_id,behavior_type order by behavior_type, cnt desc\n",
    "\"\"\").show()"
   ]
  },
  {
   "cell_type": "code",
   "execution_count": 5,
   "metadata": {},
   "outputs": [],
   "source": [
    "sqlDFRaw = spark.sql(\"\"\"SELECT item_id,\n",
    "(case behavior_type \n",
    "      when 1 then 'pv'\n",
    "      when 2 then 'fav'\n",
    "      when 3 then 'cart'\n",
    "      when 4 then 'buy'\n",
    "      END)behavior,\n",
    "  count(*) as cnt\n",
    "FROM taobao group by item_id,behavior_type order by behavior_type, cnt desc\n",
    "\"\"\")"
   ]
  },
  {
   "cell_type": "code",
   "execution_count": 6,
   "metadata": {},
   "outputs": [],
   "source": [
    "sqlDF = sqlDFRaw.groupBy(\"item_id\").pivot(\"behavior\", [\"pv\", \"fav\", \"cart\", \"buy\"]).sum(\"cnt\")"
   ]
  },
  {
   "cell_type": "code",
   "execution_count": 7,
   "metadata": {},
   "outputs": [
    {
     "data": {
      "text/plain": [
       "DataFrame[item_id: int, pv: bigint, fav: bigint, cart: bigint, buy: bigint]"
      ]
     },
     "execution_count": 7,
     "metadata": {},
     "output_type": "execute_result"
    }
   ],
   "source": [
    "sqlDF.cache()"
   ]
  },
  {
   "cell_type": "code",
   "execution_count": 22,
   "metadata": {},
   "outputs": [
    {
     "name": "stdout",
     "output_type": "stream",
     "text": [
      "+---------+---+----+----+----+\n",
      "|  item_id| pv| fav|cart| buy|\n",
      "+---------+---+----+----+----+\n",
      "|268113218| 26|   1|null|null|\n",
      "|371610827| 12|null|null|null|\n",
      "|165468308|  8|null|null|null|\n",
      "|162165691|  5|null|null|null|\n",
      "|238016778|  5|null|null|null|\n",
      "|112152446|  2|null|null|null|\n",
      "|223363762|  2|null|null|null|\n",
      "|384013655|  2|null|null|null|\n",
      "| 40710676|  2|null|null|null|\n",
      "|216232610|  2|null|null|null|\n",
      "|327320824|  2|null|null|null|\n",
      "|101545006|  2|null|null|null|\n",
      "|396262783|  2|null|null|null|\n",
      "|282167185|  2|null|null|null|\n",
      "|281262595|  2|null|null|null|\n",
      "|181282439|  2|null|null|null|\n",
      "|301402635|  2|null|null|null|\n",
      "| 65895144|  2|null|null|null|\n",
      "|358392671|  2|null|null|null|\n",
      "| 64684828|  2|null|null|null|\n",
      "+---------+---+----+----+----+\n",
      "only showing top 20 rows\n",
      "\n"
     ]
    }
   ],
   "source": [
    "sqlDF.show()"
   ]
  },
  {
   "cell_type": "code",
   "execution_count": 8,
   "metadata": {},
   "outputs": [
    {
     "name": "stdout",
     "output_type": "stream",
     "text": [
      "+---------+---------+-------------+------------+-------------+-------------+\n",
      "|  user_id|  item_id|behavior_type|user_geohash|item_category|  create_time|\n",
      "+---------+---------+-------------+------------+-------------+-------------+\n",
      "|110844468|268113218|            2|     9r7ls4r|         8480|2014-12-10 11|\n",
      "| 15987177|268113218|            1|        null|         8480|2014-11-26 00|\n",
      "| 62118780|268113218|            1|     956o9oj|         8480|2014-11-24 21|\n",
      "|110844468|268113218|            1|     9r7jdti|         8480|2014-12-10 11|\n",
      "| 21562611|268113218|            1|        null|         8480|2014-12-08 05|\n",
      "| 21562611|268113218|            1|        null|         8480|2014-12-05 20|\n",
      "|110844468|268113218|            1|     9r7jdum|         8480|2014-12-10 11|\n",
      "| 62118780|268113218|            1|     956oppa|         8480|2014-11-24 21|\n",
      "|110844468|268113218|            1|     9r7ls9p|         8480|2014-12-10 11|\n",
      "| 21562611|268113218|            1|        null|         8480|2014-12-08 05|\n",
      "| 48793683|268113218|            1|        null|         8480|2014-12-14 20|\n",
      "| 15987177|268113218|            1|        null|         8480|2014-11-26 00|\n",
      "| 15987177|268113218|            1|        null|         8480|2014-11-26 00|\n",
      "| 62118780|268113218|            1|     956o9ow|         8480|2014-11-24 22|\n",
      "|110844468|268113218|            1|     9r7ls92|         8480|2014-12-10 11|\n",
      "| 48793683|268113218|            1|        null|         8480|2014-12-14 20|\n",
      "| 21562611|268113218|            1|        null|         8480|2014-12-08 05|\n",
      "| 62118780|268113218|            1|     956ops9|         8480|2014-11-24 22|\n",
      "|110844468|268113218|            1|     9r7ls91|         8480|2014-12-10 11|\n",
      "| 21562611|268113218|            1|        null|         8480|2014-12-05 20|\n",
      "+---------+---------+-------------+------------+-------------+-------------+\n",
      "only showing top 20 rows\n",
      "\n"
     ]
    }
   ],
   "source": [
    "spark.sql(\"SELECT * FROM taobao where item_id=268113218\").show()"
   ]
  },
  {
   "cell_type": "code",
   "execution_count": 25,
   "metadata": {},
   "outputs": [
    {
     "name": "stdout",
     "output_type": "stream",
     "text": [
      "+---------+----+----+----+----+\n",
      "|  item_id|  pv| fav|cart| buy|\n",
      "+---------+----+----+----+----+\n",
      "| 91956974|null|null|   1|null|\n",
      "|373451095|null|null|   1|null|\n",
      "|216512615|null|null|null|   2|\n",
      "| 26146891|null|null|   2|   1|\n",
      "| 40247840|null|   1|null|null|\n",
      "|278001730|null|null|null|   1|\n",
      "| 75118405|null|   1|null|null|\n",
      "|  9433020|null|null|   1|null|\n",
      "|229965456|null|null|null|   2|\n",
      "|275466788|null|null|null|   1|\n",
      "|327664315|null|null|   1|   1|\n",
      "|112987715|null|null|null|   1|\n",
      "| 45647804|null|null|   1|   2|\n",
      "| 13797050|null|null|null|   1|\n",
      "|399186166|null|null|   1|null|\n",
      "|339437804|null|null|null|   1|\n",
      "|  4742759|null|null|   1|null|\n",
      "|306900623|null|null|null|   1|\n",
      "|316582757|null|null|   1|null|\n",
      "| 16105308|null|null|null|   1|\n",
      "+---------+----+----+----+----+\n",
      "only showing top 20 rows\n",
      "\n"
     ]
    }
   ],
   "source": [
    "sqlDF.where(sqlDF.pv.isNull()).show()"
   ]
  },
  {
   "cell_type": "code",
   "execution_count": 9,
   "metadata": {},
   "outputs": [],
   "source": [
    "spark.catalog.clearCache()"
   ]
  },
  {
   "cell_type": "code",
   "execution_count": 10,
   "metadata": {},
   "outputs": [],
   "source": [
    "sqlDFRaw = spark.sql(\"\"\"SELECT item_id,\n",
    "(case behavior_type \n",
    "      when 1 then 'pv'\n",
    "      when 2 then 'fav'\n",
    "      when 3 then 'cart'\n",
    "      when 4 then 'buy'\n",
    "      END)behavior,\n",
    "  count(*) as cnt\n",
    "FROM taobao group by item_id,behavior_type order by behavior_type, cnt desc\n",
    "\"\"\")"
   ]
  },
  {
   "cell_type": "code",
   "execution_count": 11,
   "metadata": {},
   "outputs": [],
   "source": [
    "sqlDFCol = sqlDFRaw.groupBy(\"item_id\").pivot(\"behavior\", [\"pv\", \"fav\", \"cart\", \"buy\"]).sum(\"cnt\")"
   ]
  },
  {
   "cell_type": "code",
   "execution_count": 12,
   "metadata": {},
   "outputs": [
    {
     "data": {
      "text/plain": [
       "DataFrame[item_id: int, pv: bigint, fav: bigint, cart: bigint, buy: bigint]"
      ]
     },
     "execution_count": 12,
     "metadata": {},
     "output_type": "execute_result"
    }
   ],
   "source": [
    "sqlDFCol.cache()"
   ]
  },
  {
   "cell_type": "code",
   "execution_count": 13,
   "metadata": {},
   "outputs": [],
   "source": [
    "sqlDFCol.createOrReplaceTempView(\"pbcf\")"
   ]
  },
  {
   "cell_type": "code",
   "execution_count": 14,
   "metadata": {},
   "outputs": [],
   "source": [
    "sqlDF = spark.sql(\"SELECT item_id, buy/pv as frac from pbcf where pv is not null and buy is not null order by frac desc\")"
   ]
  },
  {
   "cell_type": "code",
   "execution_count": 34,
   "metadata": {},
   "outputs": [
    {
     "name": "stdout",
     "output_type": "stream",
     "text": [
      "+---------+----+\n",
      "|  item_id|frac|\n",
      "+---------+----+\n",
      "| 95756656|12.0|\n",
      "|375587792| 9.0|\n",
      "|331730418| 8.0|\n",
      "|228419454| 8.0|\n",
      "|333934205| 6.0|\n",
      "| 28106123| 6.0|\n",
      "|250846439| 6.0|\n",
      "| 46229046| 5.0|\n",
      "|151223032| 5.0|\n",
      "|326182036| 5.0|\n",
      "| 61608277| 5.0|\n",
      "| 14750488| 5.0|\n",
      "| 70766921| 5.0|\n",
      "|283631641| 5.0|\n",
      "|174121868| 5.0|\n",
      "|309245674| 4.5|\n",
      "|281010457| 4.5|\n",
      "| 73126790| 4.0|\n",
      "|158083270| 4.0|\n",
      "| 77668759| 4.0|\n",
      "+---------+----+\n",
      "only showing top 20 rows\n",
      "\n"
     ]
    }
   ],
   "source": [
    "sqlDF.show()"
   ]
  },
  {
   "cell_type": "code",
   "execution_count": 35,
   "metadata": {},
   "outputs": [
    {
     "name": "stdout",
     "output_type": "stream",
     "text": [
      "+--------+---+----+----+---+\n",
      "| item_id| pv| fav|cart|buy|\n",
      "+--------+---+----+----+---+\n",
      "|95756656|  1|null|   1| 12|\n",
      "+--------+---+----+----+---+\n",
      "\n"
     ]
    }
   ],
   "source": [
    "spark.sql(\"SELECT * FROM pbcf where item_id=95756656\").show()"
   ]
  },
  {
   "cell_type": "code",
   "execution_count": 36,
   "metadata": {},
   "outputs": [
    {
     "name": "stdout",
     "output_type": "stream",
     "text": [
      "+---------+--------+-------------+------------+-------------+-------------+\n",
      "|  user_id| item_id|behavior_type|user_geohash|item_category|  create_time|\n",
      "+---------+--------+-------------+------------+-------------+-------------+\n",
      "|107209058|95756656|            4|        null|         1346|2014-11-23 18|\n",
      "|107209058|95756656|            4|        null|         1346|2014-11-23 18|\n",
      "|107209058|95756656|            4|        null|         1346|2014-11-23 18|\n",
      "|107209058|95756656|            4|        null|         1346|2014-11-23 18|\n",
      "|107209058|95756656|            4|        null|         1346|2014-11-23 18|\n",
      "|107209058|95756656|            1|     9rqijno|         1346|2014-11-23 13|\n",
      "|107209058|95756656|            3|     9rqijck|         1346|2014-11-23 13|\n",
      "|107209058|95756656|            4|        null|         1346|2014-11-23 18|\n",
      "|107209058|95756656|            4|        null|         1346|2014-11-23 18|\n",
      "|107209058|95756656|            4|        null|         1346|2014-11-23 18|\n",
      "|107209058|95756656|            4|        null|         1346|2014-11-23 18|\n",
      "|107209058|95756656|            4|        null|         1346|2014-11-23 18|\n",
      "|107209058|95756656|            4|        null|         1346|2014-11-23 18|\n",
      "|107209058|95756656|            4|        null|         1346|2014-11-23 18|\n",
      "+---------+--------+-------------+------------+-------------+-------------+\n",
      "\n"
     ]
    }
   ],
   "source": [
    "spark.sql(\"SELECT * FROM taobao where item_id=95756656\").show()"
   ]
  },
  {
   "cell_type": "code",
   "execution_count": 15,
   "metadata": {},
   "outputs": [],
   "source": [
    "sqlDF = spark.sql(\"SELECT count(pv) as cpv, count(cart) as ccart, count(fav) as cfav, count(buy) as cbuy from pbcf\")"
   ]
  },
  {
   "cell_type": "code",
   "execution_count": 16,
   "metadata": {},
   "outputs": [
    {
     "name": "stdout",
     "output_type": "stream",
     "text": [
      "+-------+------+------+-----+\n",
      "|    cpv| ccart|  cfav| cbuy|\n",
      "+-------+------+------+-----+\n",
      "|2870604|250117|205158|92753|\n",
      "+-------+------+------+-----+\n",
      "\n"
     ]
    }
   ],
   "source": [
    "sqlDF.show()"
   ]
  },
  {
   "cell_type": "code",
   "execution_count": 17,
   "metadata": {},
   "outputs": [],
   "source": [
    "from pyecharts import Funnel"
   ]
  },
  {
   "cell_type": "code",
   "execution_count": 18,
   "metadata": {},
   "outputs": [
    {
     "name": "stderr",
     "output_type": "stream",
     "text": [
      "/hadoop/Anaconda/Anaconda3-2018.12-Linux-x86_64/lib/python3.7/site-packages/pyarrow/__init__.py:152: UserWarning: pyarrow.open_stream is deprecated, please use pyarrow.ipc.open_stream\n",
      "  warnings.warn(\"pyarrow.open_stream is deprecated, please use \"\n"
     ]
    }
   ],
   "source": [
    "pbcfPandasDF = sqlDF.toPandas()"
   ]
  },
  {
   "cell_type": "code",
   "execution_count": 19,
   "metadata": {},
   "outputs": [
    {
     "data": {
      "text/html": [
       "<div>\n",
       "<style scoped>\n",
       "    .dataframe tbody tr th:only-of-type {\n",
       "        vertical-align: middle;\n",
       "    }\n",
       "\n",
       "    .dataframe tbody tr th {\n",
       "        vertical-align: top;\n",
       "    }\n",
       "\n",
       "    .dataframe thead th {\n",
       "        text-align: right;\n",
       "    }\n",
       "</style>\n",
       "<table border=\"1\" class=\"dataframe\">\n",
       "  <thead>\n",
       "    <tr style=\"text-align: right;\">\n",
       "      <th></th>\n",
       "      <th>cpv</th>\n",
       "      <th>ccart</th>\n",
       "      <th>cfav</th>\n",
       "      <th>cbuy</th>\n",
       "    </tr>\n",
       "  </thead>\n",
       "  <tbody>\n",
       "    <tr>\n",
       "      <th>0</th>\n",
       "      <td>2870604</td>\n",
       "      <td>250117</td>\n",
       "      <td>205158</td>\n",
       "      <td>92753</td>\n",
       "    </tr>\n",
       "  </tbody>\n",
       "</table>\n",
       "</div>"
      ],
      "text/plain": [
       "       cpv   ccart    cfav   cbuy\n",
       "0  2870604  250117  205158  92753"
      ]
     },
     "execution_count": 19,
     "metadata": {},
     "output_type": "execute_result"
    }
   ],
   "source": [
    "pbcfPandasDF"
   ]
  },
  {
   "cell_type": "code",
   "execution_count": 30,
   "metadata": {},
   "outputs": [
    {
     "data": {
      "text/html": [
       "<script>\n",
       "    require.config({\n",
       "        paths: {\n",
       "            'echarts': '/nbextensions/echarts/echarts.min'\n",
       "        }\n",
       "    });\n",
       "</script>\n",
       "    <div id=\"c4985b33e25b457395c8430bb46eb565\" style=\"width:800px;height:400px;\"></div>\n",
       "\n",
       "\n",
       "<script>\n",
       "    require(['echarts'], function(echarts) {\n",
       "        \n",
       "var myChart_c4985b33e25b457395c8430bb46eb565 = echarts.init(document.getElementById('c4985b33e25b457395c8430bb46eb565'), 'light', {renderer: 'canvas'});\n",
       "\n",
       "var option_c4985b33e25b457395c8430bb46eb565 = {\n",
       "    \"title\": [\n",
       "        {\n",
       "            \"text\": \"\\u603b\\u4f53\\u8f6c\\u5316\\u6f0f\\u6597\\u56fe\\u4e00\",\n",
       "            \"left\": \"center\",\n",
       "            \"top\": \"auto\",\n",
       "            \"textStyle\": {\n",
       "                \"fontSize\": 18\n",
       "            },\n",
       "            \"subtextStyle\": {\n",
       "                \"fontSize\": 12\n",
       "            }\n",
       "        }\n",
       "    ],\n",
       "    \"toolbox\": {\n",
       "        \"show\": true,\n",
       "        \"orient\": \"vertical\",\n",
       "        \"left\": \"95%\",\n",
       "        \"top\": \"center\",\n",
       "        \"feature\": {\n",
       "            \"saveAsImage\": {\n",
       "                \"show\": true,\n",
       "                \"title\": \"save as image\"\n",
       "            },\n",
       "            \"restore\": {\n",
       "                \"show\": true,\n",
       "                \"title\": \"restore\"\n",
       "            },\n",
       "            \"dataView\": {\n",
       "                \"show\": true,\n",
       "                \"title\": \"data view\"\n",
       "            }\n",
       "        }\n",
       "    },\n",
       "    \"series_id\": 5727191,\n",
       "    \"tooltip\": {\n",
       "        \"trigger\": \"item\",\n",
       "        \"triggerOn\": \"mousemove|click\",\n",
       "        \"axisPointer\": {\n",
       "            \"type\": \"line\"\n",
       "        },\n",
       "        \"textStyle\": {\n",
       "            \"fontSize\": 14\n",
       "        },\n",
       "        \"backgroundColor\": \"rgba(50,50,50,0.7)\",\n",
       "        \"borderColor\": \"#333\",\n",
       "        \"borderWidth\": 0\n",
       "    },\n",
       "    \"series\": [\n",
       "        {\n",
       "            \"type\": \"funnel\",\n",
       "            \"name\": \"\\u5546\\u54c1\\u4ea4\\u6613\\u884c\\u73af\\u8282\",\n",
       "            \"data\": [\n",
       "                {\n",
       "                    \"name\": \"pv\",\n",
       "                    \"value\": 100.0\n",
       "                },\n",
       "                {\n",
       "                    \"name\": \"cart\",\n",
       "                    \"value\": 8.713044362789155\n",
       "                },\n",
       "                {\n",
       "                    \"name\": \"fav\",\n",
       "                    \"value\": 82.0248123878025\n",
       "                },\n",
       "                {\n",
       "                    \"name\": \"buy\",\n",
       "                    \"value\": 37.08384476065201\n",
       "                }\n",
       "            ],\n",
       "            \"sort\": \"descending\",\n",
       "            \"gap\": 0,\n",
       "            \"label\": {\n",
       "                \"normal\": {\n",
       "                    \"show\": true,\n",
       "                    \"position\": \"inside\",\n",
       "                    \"textStyle\": {\n",
       "                        \"fontSize\": 12\n",
       "                    },\n",
       "                    \"formatter\": \"{c}%\"\n",
       "                },\n",
       "                \"emphasis\": {\n",
       "                    \"show\": true,\n",
       "                    \"textStyle\": {\n",
       "                        \"fontSize\": 12\n",
       "                    }\n",
       "                }\n",
       "            }\n",
       "        }\n",
       "    ],\n",
       "    \"legend\": [\n",
       "        {\n",
       "            \"data\": [\n",
       "                \"pv\",\n",
       "                \"buy\",\n",
       "                \"cart\",\n",
       "                \"fav\"\n",
       "            ],\n",
       "            \"selectedMode\": \"multiple\",\n",
       "            \"show\": true,\n",
       "            \"left\": \"left\",\n",
       "            \"top\": \"top\",\n",
       "            \"orient\": \"vertical\",\n",
       "            \"textStyle\": {\n",
       "                \"fontSize\": 12\n",
       "            }\n",
       "        }\n",
       "    ],\n",
       "    \"animation\": true,\n",
       "    \"color\": [\n",
       "        \"#c23531\",\n",
       "        \"#2f4554\",\n",
       "        \"#61a0a8\",\n",
       "        \"#d48265\",\n",
       "        \"#749f83\",\n",
       "        \"#ca8622\",\n",
       "        \"#bda29a\",\n",
       "        \"#6e7074\",\n",
       "        \"#546570\",\n",
       "        \"#c4ccd3\",\n",
       "        \"#f05b72\",\n",
       "        \"#ef5b9c\",\n",
       "        \"#f47920\",\n",
       "        \"#905a3d\",\n",
       "        \"#fab27b\",\n",
       "        \"#2a5caa\",\n",
       "        \"#444693\",\n",
       "        \"#726930\",\n",
       "        \"#b2d235\",\n",
       "        \"#6d8346\",\n",
       "        \"#ac6767\",\n",
       "        \"#1d953f\",\n",
       "        \"#6950a1\",\n",
       "        \"#918597\",\n",
       "        \"#f6f5ec\"\n",
       "    ]\n",
       "};\n",
       "myChart_c4985b33e25b457395c8430bb46eb565.setOption(option_c4985b33e25b457395c8430bb46eb565);\n",
       "\n",
       "    });\n",
       "</script>\n"
      ],
      "text/plain": [
       "<pyecharts.charts.funnel.Funnel at 0x7f4450544128>"
      ]
     },
     "execution_count": 30,
     "metadata": {},
     "output_type": "execute_result"
    }
   ],
   "source": [
    "attrs = pd.Series(['pv','cart','fav','buy']).tolist()\n",
    "attr_value = pd.Series([100,pbcfPandasDF.iloc[0]['ccart']/pbcfPandasDF.iloc[0]['cpv']*100,pbcfPandasDF.iloc[0]['cfav']/pbcfPandasDF.iloc[0]['ccart']*100,pbcfPandasDF.iloc[0]['cbuy']/pbcfPandasDF.iloc[0]['ccart']*100]).tolist()\n",
    " \n",
    "funnel1 = Funnel(\"总体转化漏斗图一\",width=800, height=400, title_pos='center')\n",
    " \n",
    "funnel1.add(name=\"商品交易行环节\",       # 指定图例名称\n",
    "            attr=attrs,                # 指定属性名称\n",
    "            value = attr_value,        # 指定属性所对应的值\n",
    "            is_label_show=True,        # 指定标签是否显示\n",
    "            label_formatter='{c}%',    # 指定标签显示的格式\n",
    "            label_pos=\"inside\",        # 指定标签的位置\n",
    "            legend_orient='vertical',  # 指定图例的方向\n",
    "            legend_pos='left',         # 指定图例的位置\n",
    "            is_legend_show=True)       # 指定图例是否显示\n",
    " \n",
    "funnel1.render()\n",
    "funnel1"
   ]
  },
  {
   "cell_type": "code",
   "execution_count": 22,
   "metadata": {},
   "outputs": [
    {
     "data": {
      "text/plain": [
       "['pv', 'cart', 'fav', 'buy']"
      ]
     },
     "execution_count": 22,
     "metadata": {},
     "output_type": "execute_result"
    }
   ],
   "source": [
    "pd.Series(['pv','cart','fav','buy']).tolist()"
   ]
  },
  {
   "cell_type": "code",
   "execution_count": 25,
   "metadata": {},
   "outputs": [
    {
     "data": {
      "text/plain": [
       "2870604"
      ]
     },
     "execution_count": 25,
     "metadata": {},
     "output_type": "execute_result"
    }
   ],
   "source": [
    "pbcfPandasDF.iloc[0]['cpv']"
   ]
  },
  {
   "cell_type": "code",
   "execution_count": 29,
   "metadata": {},
   "outputs": [
    {
     "data": {
      "text/plain": [
       "[100.0, 8.713044362789155, 82.0248123878025, 37.08384476065201]"
      ]
     },
     "execution_count": 29,
     "metadata": {},
     "output_type": "execute_result"
    }
   ],
   "source": [
    "pd.Series([100,pbcfPandasDF.iloc[0]['ccart']/pbcfPandasDF.iloc[0]['cpv']*100,pbcfPandasDF.iloc[0]['cfav']/pbcfPandasDF.iloc[0]['ccart']*100,pbcfPandasDF.iloc[0]['cbuy']/pbcfPandasDF.iloc[0]['ccart']*100]).tolist()"
   ]
  },
  {
   "cell_type": "code",
   "execution_count": 28,
   "metadata": {},
   "outputs": [
    {
     "data": {
      "text/plain": [
       "[100.0, 0.08713044362789155]"
      ]
     },
     "execution_count": 28,
     "metadata": {},
     "output_type": "execute_result"
    }
   ],
   "source": [
    "pd.Series([100,pbcfPandasDF.iloc[0]['ccart']/pbcfPandasDF.iloc[0]['cpv']]).tolist()"
   ]
  },
  {
   "cell_type": "code",
   "execution_count": null,
   "metadata": {},
   "outputs": [],
   "source": []
  }
 ],
 "metadata": {
  "kernelspec": {
   "display_name": "Python 3",
   "language": "python",
   "name": "python3"
  },
  "language_info": {
   "codemirror_mode": {
    "name": "ipython",
    "version": 3
   },
   "file_extension": ".py",
   "mimetype": "text/x-python",
   "name": "python",
   "nbconvert_exporter": "python",
   "pygments_lexer": "ipython3",
   "version": "3.7.1"
  }
 },
 "nbformat": 4,
 "nbformat_minor": 2
}
